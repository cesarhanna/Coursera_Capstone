{
    "cells": [
        {
            "metadata": {},
            "cell_type": "markdown",
            "source": "# <center>Analysis on the Transporation Infrastructure Extension in Dubai</center>"
        },
        {
            "metadata": {},
            "cell_type": "markdown",
            "source": "**Author:** Cesar Hanna"
        },
        {
            "metadata": {},
            "cell_type": "markdown",
            "source": "**Date:** March 3, 2021"
        },
        {
            "metadata": {},
            "cell_type": "markdown",
            "source": "## **Introduction**"
        },
        {
            "metadata": {},
            "cell_type": "markdown",
            "source": "Dubai is the most populous city in the United Arab Emirates (UAE) and the capital of the Emirate of Dubai.\n\nLocated in the eastern part of the Arabian Peninsula on the coast of the Persian Gulf, Dubai aims to be the business hub of Western Asia. It is also a major global transport hub for passengers and cargo. Oil revenue helped accelerate the development of the city, which was already a major mercantile hub. Dubai's oil output made up 2.1 percent of the Persian Gulf emirates economy in 2008. A centre for regional and international trade since the early 20th century, Dubai's economy relies on revenues from trade, tourism, aviation, real estate, and financial services. According to government data, the population of Dubai is estimated at around 3,400,800 as of 8 September 2020."
        },
        {
            "metadata": {},
            "cell_type": "markdown",
            "source": "## **The Challenge**"
        },
        {
            "metadata": {},
            "cell_type": "markdown",
            "source": "With the fast growing economy and the influx of expats to work in all sectors, Dubai has become quite populated. However, currently commuting to work, to school and/or to venues is heavily dependent on either cars or taxis. There is a metro that connects few areas, but it is not covering enough regions that people can rely on; same goes to the bus system that they have there but not enough coverage as well.\n\nOne of the major worldwide events is taking place in Dubai and that is Expo 2020; Dubai Expo 2020 is a hot topic, due to the increasing pressure that will be placed on Dubai\u2019s transport systems and existing infrastructure. The aftermath of the event is also talked about. in terms of how the construction work taking place to accommodate the event will impact Dubai in the ensuring years.\n\nThis is creating few problems to name few:\n\n- Financial: Commuting by taxi can be expensive. A lot of families cannot afford that.\n\n- Infrastructure: Infrastructure congestion is hindering the mobility which in turn can have an impact on businesses and ultimately the economy.\n\n- Environmental: The United Arab Emirates are a contributor to greenhouse gas emissions, listed as having the 29th highest carbon dioxide emissions. Since the boom of the oil industry occurred in the early 21st century, the population and its consumption of energy have sharply increased."
        },
        {
            "metadata": {},
            "cell_type": "markdown",
            "source": "## **Description of the Solution**"
        },
        {
            "metadata": {},
            "cell_type": "markdown",
            "source": "One effective way to solve these problems is to improve the transportation system by extending the metro system and building obviously few other underground stations.\n\nFor the business decision to be effective on where to build those stations, I have considered couple of important features such as population, venues that also include schools and hospitals and nearest metro station. More details on those features will be explained in the next sections."
        },
        {
            "metadata": {},
            "cell_type": "markdown",
            "source": "## **Decision Criterion**"
        },
        {
            "metadata": {},
            "cell_type": "markdown",
            "source": "Based on the data at hand and for the sake of analysis only (of course there are a lot of variables to be considered to take a decision for such a project, such as cost, environmental impact, available area and many more), I am going to use a group of variables, to be able to take a decision on where to extend the metro infrastructure and build new stations.\n\nIt will be based on certain logical criterion to follow, taking into consideration that the metro stations will be built in the centre of communities that are conforming to the criterion. The reason for this consideration is that these communities have a fairly small surface area thus building a station in the centre should solve the problem.\n\nIn real life situations it is not always the case that all 3 features, population, number of venues and nearest walking distance metro station, are satisfying the criterion, therefore if 2 criterion are met it should be enough to decide.\n\nThreshold defined in numbers:\n\n- Population: >= 1000\n\n- Number of venues: a ratio of 15 venues for every 1000 people (15:1000); that means the number of venues should be >=15 based on the aforementioned population criteria\n\n- Nearest walking distance MS from the centre of the community: >=1.7 Km\n"
        }
    ],
    "metadata": {
        "kernelspec": {
            "name": "python3",
            "display_name": "Python 3.7",
            "language": "python"
        },
        "language_info": {
            "name": "python",
            "version": "3.7.10",
            "mimetype": "text/x-python",
            "codemirror_mode": {
                "name": "ipython",
                "version": 3
            },
            "pygments_lexer": "ipython3",
            "nbconvert_exporter": "python",
            "file_extension": ".py"
        }
    },
    "nbformat": 4,
    "nbformat_minor": 4
}